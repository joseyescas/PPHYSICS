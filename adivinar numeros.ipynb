{
 "cells": [
  {
   "cell_type": "code",
   "execution_count": 7,
   "id": "7c7f2360-262e-45fb-ae38-61f7defc68d0",
   "metadata": {},
   "outputs": [
    {
     "name": "stdout",
     "output_type": "stream",
     "text": [
      "He pensado en un número entre 1 y 100. Trata de adivinarlo.\n"
     ]
    },
    {
     "name": "stdin",
     "output_type": "stream",
     "text": [
      "¿Qué número crees que estoy pensando?  167\n"
     ]
    },
    {
     "name": "stdout",
     "output_type": "stream",
     "text": [
      "El número que pensaste es mayor que el que yo estoy pensando.\n"
     ]
    },
    {
     "name": "stdin",
     "output_type": "stream",
     "text": [
      "¿Qué número crees que estoy pensando?  50\n"
     ]
    },
    {
     "name": "stdout",
     "output_type": "stream",
     "text": [
      "El número que pensaste es menor que el que yo estoy pensando.\n"
     ]
    },
    {
     "name": "stdin",
     "output_type": "stream",
     "text": [
      "¿Qué número crees que estoy pensando?  75\n"
     ]
    },
    {
     "name": "stdout",
     "output_type": "stream",
     "text": [
      "El número que pensaste es mayor que el que yo estoy pensando.\n"
     ]
    },
    {
     "name": "stdin",
     "output_type": "stream",
     "text": [
      "¿Qué número crees que estoy pensando?  84\n"
     ]
    },
    {
     "name": "stdout",
     "output_type": "stream",
     "text": [
      "El número que pensaste es mayor que el que yo estoy pensando.\n"
     ]
    },
    {
     "name": "stdin",
     "output_type": "stream",
     "text": [
      "¿Qué número crees que estoy pensando?  79\n"
     ]
    },
    {
     "name": "stdout",
     "output_type": "stream",
     "text": [
      "El número que pensaste es mayor que el que yo estoy pensando.\n"
     ]
    },
    {
     "name": "stdin",
     "output_type": "stream",
     "text": [
      "¿Qué número crees que estoy pensando?  76\n"
     ]
    },
    {
     "name": "stdout",
     "output_type": "stream",
     "text": [
      "El número que pensaste es mayor que el que yo estoy pensando.\n"
     ]
    },
    {
     "name": "stdin",
     "output_type": "stream",
     "text": [
      "¿Qué número crees que estoy pensando?  77\n"
     ]
    },
    {
     "name": "stdout",
     "output_type": "stream",
     "text": [
      "El número que pensaste es mayor que el que yo estoy pensando.\n"
     ]
    },
    {
     "name": "stdin",
     "output_type": "stream",
     "text": [
      "¿Qué número crees que estoy pensando?  78\n"
     ]
    },
    {
     "name": "stdout",
     "output_type": "stream",
     "text": [
      "El número que pensaste es mayor que el que yo estoy pensando.\n"
     ]
    },
    {
     "name": "stdin",
     "output_type": "stream",
     "text": [
      "¿Qué número crees que estoy pensando?  79\n"
     ]
    },
    {
     "name": "stdout",
     "output_type": "stream",
     "text": [
      "El número que pensaste es mayor que el que yo estoy pensando.\n"
     ]
    },
    {
     "name": "stdin",
     "output_type": "stream",
     "text": [
      "¿Qué número crees que estoy pensando?  80\n"
     ]
    },
    {
     "name": "stdout",
     "output_type": "stream",
     "text": [
      "El número que pensaste es mayor que el que yo estoy pensando.\n"
     ]
    },
    {
     "name": "stdin",
     "output_type": "stream",
     "text": [
      "¿Qué número crees que estoy pensando?  82\n"
     ]
    },
    {
     "name": "stdout",
     "output_type": "stream",
     "text": [
      "El número que pensaste es mayor que el que yo estoy pensando.\n"
     ]
    },
    {
     "name": "stdin",
     "output_type": "stream",
     "text": [
      "¿Qué número crees que estoy pensando?  95\n"
     ]
    },
    {
     "name": "stdout",
     "output_type": "stream",
     "text": [
      "El número que pensaste es mayor que el que yo estoy pensando.\n"
     ]
    },
    {
     "name": "stdin",
     "output_type": "stream",
     "text": [
      "¿Qué número crees que estoy pensando?  99\n"
     ]
    },
    {
     "name": "stdout",
     "output_type": "stream",
     "text": [
      "El número que pensaste es mayor que el que yo estoy pensando.\n"
     ]
    },
    {
     "name": "stdin",
     "output_type": "stream",
     "text": [
      "¿Qué número crees que estoy pensando?  40\n"
     ]
    },
    {
     "name": "stdout",
     "output_type": "stream",
     "text": [
      "El número que pensaste es menor que el que yo estoy pensando.\n"
     ]
    },
    {
     "name": "stdin",
     "output_type": "stream",
     "text": [
      "¿Qué número crees que estoy pensando?  55\n"
     ]
    },
    {
     "name": "stdout",
     "output_type": "stream",
     "text": [
      "El número que pensaste es mayor que el que yo estoy pensando.\n"
     ]
    },
    {
     "name": "stdin",
     "output_type": "stream",
     "text": [
      "¿Qué número crees que estoy pensando?  \n"
     ]
    },
    {
     "ename": "ValueError",
     "evalue": "invalid literal for int() with base 10: ''",
     "output_type": "error",
     "traceback": [
      "\u001b[1;31m---------------------------------------------------------------------------\u001b[0m",
      "\u001b[1;31mValueError\u001b[0m                                Traceback (most recent call last)",
      "Cell \u001b[1;32mIn[7], line 12\u001b[0m\n\u001b[0;32m      9\u001b[0m \u001b[38;5;66;03m# Bucle en el que el jugador intenta adivinar\u001b[39;00m\n\u001b[0;32m     10\u001b[0m \u001b[38;5;28;01mwhile\u001b[39;00m \u001b[38;5;28;01mTrue\u001b[39;00m:\n\u001b[0;32m     11\u001b[0m     \u001b[38;5;66;03m# Pedimos al jugador que ingrese un número\u001b[39;00m\n\u001b[1;32m---> 12\u001b[0m     numero_usuario \u001b[38;5;241m=\u001b[39m \u001b[38;5;28mint\u001b[39m(\u001b[38;5;28minput\u001b[39m(\u001b[38;5;124m\"\u001b[39m\u001b[38;5;124m¿Qué número crees que estoy pensando? \u001b[39m\u001b[38;5;124m\"\u001b[39m))\n\u001b[0;32m     14\u001b[0m     \u001b[38;5;66;03m# Comparamos el número del jugador con el número de la máquina\u001b[39;00m\n\u001b[0;32m     15\u001b[0m     \u001b[38;5;28;01mif\u001b[39;00m numero_usuario \u001b[38;5;241m>\u001b[39m numero_maquina:\n",
      "\u001b[1;31mValueError\u001b[0m: invalid literal for int() with base 10: ''"
     ]
    }
   ],
   "source": [
    "import random  # Importamos el módulo random para que la máquina elija un número aleatorio.\n",
    "\n",
    "# La máquina piensa en un número aleatorio entre 1 y 100\n",
    "numero_maquina = random.randint(1, 100)\n",
    "\n",
    "# Inicio de la interacción\n",
    "print(\"He pensado en un número entre 1 y 100. Trata de adivinarlo.\")\n",
    "\n",
    "# Bucle en el que el jugador intenta adivinar\n",
    "while True:\n",
    "    # Pedimos al jugador que ingrese un número\n",
    "    numero_usuario = int(input(\"¿Qué número crees que estoy pensando? \"))\n",
    "    \n",
    "    # Comparamos el número del jugador con el número de la máquina\n",
    "    if numero_usuario > numero_maquina:\n",
    "        print(\"El número que pensaste es mayor que el que yo estoy pensando.\")  # Si el número del jugador es mayor\n",
    "    elif numero_usuario < numero_maquina:\n",
    "        print(\"El número que pensaste es menor que el que yo estoy pensando.\")  # Si el número del jugador es menor\n",
    "    else:\n",
    "        print(\"¡Correcto! El número que pensaba era\", numero_maquina)  # Si el número del jugador es igual al de la máquina\n",
    "        break  # Si acertó, salimos del bucle"
   ]
  },
  {
   "cell_type": "code",
   "execution_count": 4,
   "id": "3b83b907-f703-47e7-9545-e921ed1f6c5b",
   "metadata": {},
   "outputs": [
    {
     "data": {
      "text/plain": [
       "7"
      ]
     },
     "execution_count": 4,
     "metadata": {},
     "output_type": "execute_result"
    }
   ],
   "source": [
    "7"
   ]
  },
  {
   "cell_type": "code",
   "execution_count": 5,
   "id": "14072767-4eae-4e1e-b26b-2be999991225",
   "metadata": {},
   "outputs": [
    {
     "data": {
      "text/plain": [
       "8"
      ]
     },
     "execution_count": 5,
     "metadata": {},
     "output_type": "execute_result"
    }
   ],
   "source": [
    "8"
   ]
  },
  {
   "cell_type": "code",
   "execution_count": null,
   "id": "b0f72635-f43d-4878-99a0-f284810b6b08",
   "metadata": {},
   "outputs": [],
   "source": [
    "print(numero_maquina)"
   ]
  },
  {
   "cell_type": "code",
   "execution_count": null,
   "id": "271901c4-e611-4a3c-9b9b-1c4eed609ea7",
   "metadata": {},
   "outputs": [],
   "source": []
  }
 ],
 "metadata": {
  "kernelspec": {
   "display_name": "Python 3 (ipykernel)",
   "language": "python",
   "name": "python3"
  },
  "language_info": {
   "codemirror_mode": {
    "name": "ipython",
    "version": 3
   },
   "file_extension": ".py",
   "mimetype": "text/x-python",
   "name": "python",
   "nbconvert_exporter": "python",
   "pygments_lexer": "ipython3",
   "version": "3.12.7"
  }
 },
 "nbformat": 4,
 "nbformat_minor": 5
}
